{
 "cells": [
  {
   "cell_type": "code",
   "execution_count": null,
   "id": "e43b13d5-36ad-47e0-8392-b85bea0ea8c4",
   "metadata": {},
   "outputs": [],
   "source": [
    "Q1."
   ]
  },
  {
   "cell_type": "code",
   "execution_count": null,
   "id": "bf2fc4c4-1f7d-4406-b285-2a6e3caff48e",
   "metadata": {},
   "outputs": [],
   "source": [
    "marks=input(\"enter your marks\")\n",
    "if  marks>90 :\n",
    "    print(\"you will be get a Grade A\")\n",
    "elif marks >80 and marks <=90 :\n",
    "    print(\"you will be get a Grade B\")\n",
    "elif marks >=60 and marks <=80 :\n",
    "    print(\"you will be get a Grade C\")\n",
    "else :\n",
    "    print(\"you will be get a Grade D\")\n",
    "    "
   ]
  },
  {
   "cell_type": "code",
   "execution_count": null,
   "id": "4839f877-cf0b-425e-afac-ee19a3e7a780",
   "metadata": {},
   "outputs": [],
   "source": [
    "Q2."
   ]
  },
  {
   "cell_type": "code",
   "execution_count": 8,
   "id": "bb0baa75-32fa-4148-9cd1-902fe61eb644",
   "metadata": {},
   "outputs": [
    {
     "ename": "SyntaxError",
     "evalue": "invalid syntax (1441201512.py, line 4)",
     "output_type": "error",
     "traceback": [
      "\u001b[0;36m  Cell \u001b[0;32mIn[8], line 4\u001b[0;36m\u001b[0m\n\u001b[0;31m    elif cost>50000 and <=100000 :\u001b[0m\n\u001b[0m                        ^\u001b[0m\n\u001b[0;31mSyntaxError\u001b[0m\u001b[0;31m:\u001b[0m invalid syntax\n"
     ]
    }
   ],
   "source": [
    "cost=input(\"enter your cost price\")\n",
    "if cost>100000 :\n",
    "    print(\"you will be pay Tax 15%\")\n",
    "elif cost>50000 and <=100000 :\n",
    "    print(\"you will be pay Tax 10%\")\n",
    "else  :\n",
    "    print(\"you will be pay Tax 5%\")\n",
    "    \n",
    "    "
   ]
  },
  {
   "cell_type": "code",
   "execution_count": null,
   "id": "89f2805c-1704-433e-8f6c-cec771d6afe2",
   "metadata": {},
   "outputs": [],
   "source": [
    "Q3."
   ]
  },
  {
   "cell_type": "code",
   "execution_count": null,
   "id": "a3c08ab5-934e-46c1-a674-00a0b12f5bdb",
   "metadata": {},
   "outputs": [],
   "source": [
    "City=input(\"enter your City\")\n",
    "if City== Delhi :\n",
    "    print(\"you should see Red Fort\")\n",
    "elif City== Agra :\n",
    "    print(\"you should see Taj Mahal\")\n",
    "else  :\n",
    "    print(\"you should see Jal Mahal\")\n"
   ]
  },
  {
   "cell_type": "code",
   "execution_count": null,
   "id": "c50b7b70-257d-47a8-9904-41f90397464e",
   "metadata": {},
   "outputs": [],
   "source": [
    "4. Check how many times a given number can be divided by 3 before it is less than or equal to 10.\n",
    "Answer- Let's call the given number \"n\". We want to find how many times we can divide n by 3 before the result is less than or equal to 10. We can write this as an equation:\n",
    "\n",
    "n / 3^x <= 10\n",
    "\n",
    "where \"x\" is the number of times we divide n by 3. We want to solve for \"x\".\n",
    "\n",
    "To do this, we can start by isolating \"x\" on one side of the inequality. We can do this by taking the logarithm (base 3) of both sides:\n",
    "\n",
    "log3(n / 3^x) <= log3(10)\n",
    "\n",
    "Next, we can simplify the left-hand side of the inequality using the properties of logarithms:\n",
    "\n",
    "log3(n) - x <= log3(10)\n",
    "\n",
    "Now, we can isolate \"x\" by subtracting log3(n) from both sides:\n",
    "\n",
    "x >= log3(n) - log3(10)\n",
    "\n",
    "We want to round up this result to the nearest integer, since we can't divide by a fraction of a number. We can do this using the ceil function (short for \"ceiling\"):\n",
    "\n",
    "x = ceil(log3(n) - log3(10))"
   ]
  },
  {
   "cell_type": "code",
   "execution_count": null,
   "id": "e92e3120-5a00-40c3-9181-5f7bfdf244a5",
   "metadata": {},
   "outputs": [],
   "source": [
    "5. Why and When to Use while Loop in Python give a detailed description with example?\n",
    "Answer- A while loop in Python is used when you want to repeat a set of instructions while a certain condition is true. The general syntax of a while loop is as follows:\n",
    " while condition:\n",
    " # code block to execute while the condition is true\n",
    "The loop will keep executing the code block as long as the condition remains true. Once the condition becomes false, the loop will terminate and the program will continue with the next line of code.\n",
    "\n",
    "One common use case for a while loop is when you don't know in advance how many times you need to repeat a certain set of instructions. For example, suppose you want to write a program that asks the user to enter a password, and keeps asking until the user enters the correct password. You could use a while loop to do this:\n",
    "password = \"secret\"\n",
    "guess = \"\"\n",
    "\n",
    "while guess != password:\n",
    "    guess = input(\"Enter the password: \")\n",
    "\n",
    "print(\"Access granted!\")\n"
   ]
  },
  {
   "cell_type": "code",
   "execution_count": null,
   "id": "bb6ed548-283a-482d-8afb-13c2d4d258d5",
   "metadata": {},
   "outputs": [],
   "source": [
    "6. Use nested while loop to print 3 different pattern.\n",
    "Answer- Pattern 1 - Square of asterisks:\n",
    "    n = 5  # size of the square\n",
    "\n",
    "i = 0\n",
    "while i < n:\n",
    "    j = 0\n",
    "    while j < n:\n",
    "        print(\"* \", end=\"\")\n",
    "        j += 1\n",
    "    print()\n",
    "    i += 1\n",
    "Pattern 2 - Right triangle of numbers:\n",
    "    n = 5  # number of rows\n",
    "\n",
    "i = 1\n",
    "while i <= n:\n",
    "    j = 1\n",
    "    while j <= i:\n",
    "        print(j, end=\" \")\n",
    "        j += 1\n",
    "    print()\n",
    "    i += 1\n",
    "Pattern 3 - Diamond of asterisks:\n",
    "    n = 5  # size of the diamond\n",
    "\n",
    "# top half of diamond\n",
    "i = 1\n",
    "while i <= n:\n",
    "    j = 1\n",
    "    while j <= n - i:\n",
    "        print(\" \", end=\"\")\n",
    "        j += 1\n",
    "    j = 1\n",
    "    while j <= 2 * i - 1:\n",
    "        print(\"*\", end=\"\")\n",
    "        j += 1\n",
    "    print()\n",
    "    i += 1\n",
    "\n",
    "# bottom half of diamond\n",
    "i = n - 1\n",
    "while i >= 1:\n",
    "    j = 1\n",
    "    while j <= n - i:\n",
    "        print(\" \", end=\"\")\n",
    "        j += 1\n",
    "    j = 1\n",
    "    while j <= 2 * i - 1:\n",
    "        print(\"*\", end=\"\")\n",
    "        j += 1\n",
    "    print()\n",
    "    i -= 1"
   ]
  },
  {
   "cell_type": "code",
   "execution_count": null,
   "id": "cf10ee9f-ce1a-45fc-92ea-60fa3e652218",
   "metadata": {},
   "outputs": [],
   "source": [
    "7. Reverse a while loop to display numbers from 10 to 1."
   ]
  },
  {
   "cell_type": "code",
   "execution_count": null,
   "id": "61b3e628-67e2-4423-b799-dd5bdab96182",
   "metadata": {},
   "outputs": [],
   "source": [
    "num = 10\n",
    "\n",
    "while num >= 1:\n",
    "    print(num)\n",
    "    num -= 1num = 10\n",
    "\n"
   ]
  },
  {
   "cell_type": "code",
   "execution_count": null,
   "id": "f72ef6b0-fd8f-41ac-8ef2-e33a9bd762d1",
   "metadata": {},
   "outputs": [],
   "source": []
  }
 ],
 "metadata": {
  "kernelspec": {
   "display_name": "Python 3 (ipykernel)",
   "language": "python",
   "name": "python3"
  },
  "language_info": {
   "codemirror_mode": {
    "name": "ipython",
    "version": 3
   },
   "file_extension": ".py",
   "mimetype": "text/x-python",
   "name": "python",
   "nbconvert_exporter": "python",
   "pygments_lexer": "ipython3",
   "version": "3.10.8"
  }
 },
 "nbformat": 4,
 "nbformat_minor": 5
}
